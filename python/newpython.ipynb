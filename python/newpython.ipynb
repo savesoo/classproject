{
 "cells": [
  {
   "cell_type": "code",
   "execution_count": 1,
   "id": "812b26ab",
   "metadata": {},
   "outputs": [],
   "source": [
    "# 주석은 #을 사용\n",
    "# 숫자, 문자열, boolean, 리스트(*), 튜플(*)\n",
    "\n",
    "# type() => data의 타입을 확인하는 내장함수\n"
   ]
  },
  {
   "cell_type": "code",
   "execution_count": 2,
   "id": "9dbdf7fd",
   "metadata": {
    "scrolled": true
   },
   "outputs": [
    {
     "name": "stdout",
     "output_type": "stream",
     "text": [
      "<class 'str'>\n"
     ]
    }
   ],
   "source": [
    "print(type('Hello~'))"
   ]
  },
  {
   "cell_type": "code",
   "execution_count": 3,
   "id": "092fb343",
   "metadata": {
    "scrolled": true
   },
   "outputs": [
    {
     "name": "stdout",
     "output_type": "stream",
     "text": [
      "<class 'int'>\n"
     ]
    }
   ],
   "source": [
    "print(type(100))"
   ]
  },
  {
   "cell_type": "code",
   "execution_count": 5,
   "id": "b502da19",
   "metadata": {
    "scrolled": true
   },
   "outputs": [
    {
     "name": "stdout",
     "output_type": "stream",
     "text": [
      "<class 'float'>\n"
     ]
    }
   ],
   "source": [
    "print(type(3.14))"
   ]
  },
  {
   "cell_type": "code",
   "execution_count": 6,
   "id": "bf15cf9c",
   "metadata": {},
   "outputs": [],
   "source": [
    "# str: 문자열 생성은 \"\" ''로 할 수 있다\n",
    "# \\ 문자를 통해서 \"\\\" \\' \\\\ \\t \\n"
   ]
  },
  {
   "cell_type": "code",
   "execution_count": 8,
   "id": "184ec04f",
   "metadata": {},
   "outputs": [
    {
     "name": "stdout",
     "output_type": "stream",
     "text": [
      "\"안녕\" \t 하' 세' 요 \n",
      "\n",
      "안녕하세요!\n"
     ]
    }
   ],
   "source": [
    "print(\"\\\"안녕\\\" \\t 하\\' 세\\' 요 \\n\")\n",
    "print(\"안녕하세요!\")"
   ]
  },
  {
   "cell_type": "code",
   "execution_count": 9,
   "id": "a536b8e1",
   "metadata": {},
   "outputs": [
    {
     "name": "stdout",
     "output_type": "stream",
     "text": [
      "안녕하세요,\n",
      "저는 손흥민입니다.\n",
      "영국에서 축구를 합니다.\n",
      "경기에서 골을 넣고 싶습니다.\n"
     ]
    }
   ],
   "source": [
    "print(\"\"\"안녕하세요,\n",
    "저는 손흥민입니다.\n",
    "영국에서 축구를 합니다.\n",
    "경기에서 골을 넣고 싶습니다.\"\"\")"
   ]
  },
  {
   "cell_type": "code",
   "execution_count": 11,
   "id": "430ff259",
   "metadata": {},
   "outputs": [
    {
     "name": "stdout",
     "output_type": "stream",
     "text": [
      "안녕하세요,\n",
      "저는 손흥민입니다.영국에서 축구를 합니다.\n",
      "경기에서 골을 넣고 싶습니다.\n"
     ]
    }
   ],
   "source": [
    "print(\"\"\"\\\n",
    "안녕하세요,\n",
    "저는 손흥민입니다.\\\n",
    "영국에서 축구를 합니다.\n",
    "경기에서 골을 넣고 싶습니다.\\\n",
    "\"\"\")"
   ]
  },
  {
   "cell_type": "code",
   "execution_count": null,
   "id": "eb9bfe2d",
   "metadata": {},
   "outputs": [],
   "source": [
    "# 문자열 + 문자열 => 문자열\n",
    "# 문자열 + 숫자 => 오류!!"
   ]
  },
  {
   "cell_type": "code",
   "execution_count": 12,
   "id": "2e63d4b5",
   "metadata": {},
   "outputs": [
    {
     "name": "stdout",
     "output_type": "stream",
     "text": [
      "안녕하세요\n"
     ]
    }
   ],
   "source": [
    "print('안녕'+'하세요')"
   ]
  },
  {
   "cell_type": "code",
   "execution_count": 13,
   "id": "9bc2896b",
   "metadata": {},
   "outputs": [
    {
     "ename": "TypeError",
     "evalue": "unsupported operand type(s) for +: 'int' and 'str'",
     "output_type": "error",
     "traceback": [
      "\u001b[1;31m---------------------------------------------------------------------------\u001b[0m",
      "\u001b[1;31mTypeError\u001b[0m                                 Traceback (most recent call last)",
      "\u001b[1;32m~\\AppData\\Local\\Temp\\ipykernel_9076\\2157113499.py\u001b[0m in \u001b[0;36m<module>\u001b[1;34m\u001b[0m\n\u001b[1;32m----> 1\u001b[1;33m \u001b[0mprint\u001b[0m\u001b[1;33m(\u001b[0m\u001b[1;36m19\u001b[0m\u001b[1;33m+\u001b[0m\u001b[1;34m'만원'\u001b[0m\u001b[1;33m)\u001b[0m\u001b[1;33m\u001b[0m\u001b[1;33m\u001b[0m\u001b[0m\n\u001b[0m",
      "\u001b[1;31mTypeError\u001b[0m: unsupported operand type(s) for +: 'int' and 'str'"
     ]
    }
   ],
   "source": [
    "print(19+'만원')"
   ]
  },
  {
   "cell_type": "code",
   "execution_count": 14,
   "id": "a78d6567",
   "metadata": {},
   "outputs": [
    {
     "name": "stdout",
     "output_type": "stream",
     "text": [
      "내게내게내게\n"
     ]
    }
   ],
   "source": [
    "print('내게'*3)"
   ]
  },
  {
   "cell_type": "code",
   "execution_count": 15,
   "id": "c4df0db9",
   "metadata": {},
   "outputs": [],
   "source": [
    "# str => 문자들의 집합\n",
    "# 인덱싱 사용 => 배열의 인덱스처럼 사용\n",
    "# 인덱스: 0 ~ N-1"
   ]
  },
  {
   "cell_type": "code",
   "execution_count": 16,
   "id": "add12850",
   "metadata": {},
   "outputs": [
    {
     "name": "stdout",
     "output_type": "stream",
     "text": [
      "안\n",
      "녕\n",
      "하\n",
      "세\n",
      "요\n"
     ]
    }
   ],
   "source": [
    "print('안녕하세요'[0])\n",
    "print('안녕하세요'[1])\n",
    "print('안녕하세요'[2])\n",
    "print('안녕하세요'[3])\n",
    "print('안녕하세요'[4])"
   ]
  },
  {
   "cell_type": "code",
   "execution_count": 17,
   "id": "87163ab7",
   "metadata": {},
   "outputs": [
    {
     "ename": "IndexError",
     "evalue": "string index out of range",
     "output_type": "error",
     "traceback": [
      "\u001b[1;31m---------------------------------------------------------------------------\u001b[0m",
      "\u001b[1;31mIndexError\u001b[0m                                Traceback (most recent call last)",
      "\u001b[1;32m~\\AppData\\Local\\Temp\\ipykernel_9076\\1268038451.py\u001b[0m in \u001b[0;36m<module>\u001b[1;34m\u001b[0m\n\u001b[1;32m----> 1\u001b[1;33m \u001b[0mprint\u001b[0m\u001b[1;33m(\u001b[0m\u001b[1;34m'안녕하세요'\u001b[0m\u001b[1;33m[\u001b[0m\u001b[1;36m5\u001b[0m\u001b[1;33m]\u001b[0m\u001b[1;33m)\u001b[0m\u001b[1;33m\u001b[0m\u001b[1;33m\u001b[0m\u001b[0m\n\u001b[0m",
      "\u001b[1;31mIndexError\u001b[0m: string index out of range"
     ]
    }
   ],
   "source": [
    "print('안녕하세요'[5])"
   ]
  },
  {
   "cell_type": "code",
   "execution_count": 18,
   "id": "c65af887",
   "metadata": {},
   "outputs": [
    {
     "name": "stdout",
     "output_type": "stream",
     "text": [
      "요\n",
      "세\n",
      "하\n",
      "녕\n",
      "안\n"
     ]
    }
   ],
   "source": [
    "print('안녕하세요'[-1])\n",
    "print('안녕하세요'[-2])\n",
    "print('안녕하세요'[-3])\n",
    "print('안녕하세요'[-4])\n",
    "print('안녕하세요'[-5])"
   ]
  },
  {
   "cell_type": "code",
   "execution_count": 19,
   "id": "040cc5e2",
   "metadata": {},
   "outputs": [],
   "source": [
    "# [] => 슬라이싱 가능 : 문자 범위 선택\n",
    "#[ 시작 인덱스 : 종료 위치 ] 시작 인덱스 ~ 종료 위치-1까지의 값 출력\n",
    "# => [1:4] -> 1, 2, 3\n",
    "\n",
    "# 시작 인덱스 생략하는 경우 : [ : 4] -> 0 ~ 4-1\n",
    "# 종료 위치를 생략하는 경우 : [2 : ] -> 2 ~ 끝"
   ]
  },
  {
   "cell_type": "code",
   "execution_count": 20,
   "id": "ce2ca5b6",
   "metadata": {},
   "outputs": [
    {
     "name": "stdout",
     "output_type": "stream",
     "text": [
      "녕하세\n"
     ]
    }
   ],
   "source": [
    "print('안녕하세요.'[1:4])"
   ]
  },
  {
   "cell_type": "code",
   "execution_count": 21,
   "id": "71244fd4",
   "metadata": {},
   "outputs": [
    {
     "name": "stdout",
     "output_type": "stream",
     "text": [
      "안녕하세\n"
     ]
    }
   ],
   "source": [
    "print('안녕하세요'[:4])"
   ]
  },
  {
   "cell_type": "code",
   "execution_count": 22,
   "id": "04a13dbf",
   "metadata": {},
   "outputs": [
    {
     "name": "stdout",
     "output_type": "stream",
     "text": [
      "하세요\n"
     ]
    }
   ],
   "source": [
    "print('안녕하세요'[2:])"
   ]
  },
  {
   "cell_type": "code",
   "execution_count": null,
   "id": "dd1e8892",
   "metadata": {},
   "outputs": [],
   "source": [
    "# 숫자 타입\n",
    "# 정수 int, 실수 float\n",
    "# 사칙연산 => +, -, *, /, %\n",
    "# 정수 나누기 : //\n",
    "# 제곱 연산자\\ : **"
   ]
  },
  {
   "cell_type": "code",
   "execution_count": 24,
   "id": "3c45984d",
   "metadata": {},
   "outputs": [
    {
     "name": "stdout",
     "output_type": "stream",
     "text": [
      "3\n",
      "3.3333333333333335\n",
      "3\n",
      "9\n"
     ]
    }
   ],
   "source": [
    "print(1+2)\n",
    "print(10/3)\n",
    "# 정수 결과만 나오는 나누기 연산\n",
    "print(10//3)\n",
    "# 제곱\n",
    "print(3**2)"
   ]
  },
  {
   "cell_type": "code",
   "execution_count": null,
   "id": "83ad8a09",
   "metadata": {},
   "outputs": [],
   "source": [
    "# 변수 사용\n",
    "# 변수 = 데이터\n",
    "# 복합대입 연산자 사용 가능"
   ]
  },
  {
   "cell_type": "code",
   "execution_count": 25,
   "id": "c3812ba9",
   "metadata": {},
   "outputs": [],
   "source": [
    "pi = 3.14\n",
    "r = 2"
   ]
  },
  {
   "cell_type": "code",
   "execution_count": 26,
   "id": "0d570e09",
   "metadata": {},
   "outputs": [
    {
     "name": "stdout",
     "output_type": "stream",
     "text": [
      "원주율 :  3.14 반지름 :  2\n"
     ]
    }
   ],
   "source": [
    "print('원주율 : ', pi, ' 반지름 : ', r)"
   ]
  },
  {
   "cell_type": "code",
   "execution_count": null,
   "id": "70f7acee",
   "metadata": {},
   "outputs": [],
   "source": [
    "# 캐스팅 함수\n",
    "# 문자열 -> 정수 : int()\n",
    "# 문자열 -> 실수 : float()\n",
    "# 숫자 -> 문자열 : str()"
   ]
  },
  {
   "cell_type": "code",
   "execution_count": null,
   "id": "03c9b7a5",
   "metadata": {},
   "outputs": [],
   "source": [
    "# 문자열을 다루는 함수\n",
    "# format()\n",
    "# upper() lower()\n",
    "# strip() lstrip() rstrip()\n",
    "# find()\n",
    "# split()\n",
    "# isOOO\n",
    "# in 연산자"
   ]
  },
  {
   "cell_type": "code",
   "execution_count": 31,
   "id": "f8392fde",
   "metadata": {},
   "outputs": [
    {
     "name": "stdout",
     "output_type": "stream",
     "text": [
      "100 만원\n",
      "100  ㅎㅎ True\n"
     ]
    }
   ],
   "source": [
    "# format : 문자열 포맷팅\n",
    "format_a = '{} 만원'.format(100)\n",
    "print(format_a)\n",
    "format_b = '{} {} {}'.format(100, ' ㅎㅎ', True)\n",
    "print(format_b)"
   ]
  },
  {
   "cell_type": "code",
   "execution_count": 35,
   "id": "8bebf367",
   "metadata": {},
   "outputs": [
    {
     "name": "stdout",
     "output_type": "stream",
     "text": [
      "###   백형훈   ###\n",
      "###백형훈###\n",
      "###백형훈   ###\n",
      "###   백형훈###\n"
     ]
    }
   ],
   "source": [
    "# strip() lstrip() rstrip() : 공백 제거해주는 함수\n",
    "str1 = '   백형훈   '\n",
    "print('###'+str1+'###')\n",
    "print('###'+str1.strip()+'###')\n",
    "print('###'+str1.lstrip()+'###')\n",
    "print('###'+str1.rstrip()+'###')"
   ]
  },
  {
   "cell_type": "code",
   "execution_count": 37,
   "id": "5ea26ca3",
   "metadata": {},
   "outputs": [
    {
     "name": "stdout",
     "output_type": "stream",
     "text": [
      "3\n"
     ]
    }
   ],
   "source": [
    "# find() : 문자열을 포함하는 위치 인덱스 반환\n",
    "result1 = '안녕하세요'.find('세')\n",
    "print(result1)"
   ]
  },
  {
   "cell_type": "code",
   "execution_count": 38,
   "id": "bd5b50e2",
   "metadata": {},
   "outputs": [
    {
     "name": "stdout",
     "output_type": "stream",
     "text": [
      "<class 'list'> ['1', '2', '3', '4', '5']\n"
     ]
    }
   ],
   "source": [
    "# split() : 문자열을 첨자로 나누고 각 나눠진 결과를 리스트로 반환\n",
    "list_1 = '1 2 3 4 5'.split(' ')\n",
    "print(type(list_1), list_1)"
   ]
  },
  {
   "cell_type": "code",
   "execution_count": 40,
   "id": "55d774bb",
   "metadata": {},
   "outputs": [
    {
     "name": "stdout",
     "output_type": "stream",
     "text": [
      "False\n",
      "True\n"
     ]
    }
   ],
   "source": [
    "# isOOO : 문자열의 구성 파악\n",
    "print('Test123!$'.isalnum())\n",
    "print('1000원'.isdigit())"
   ]
  },
  {
   "cell_type": "code",
   "execution_count": 41,
   "id": "d1b9bca5",
   "metadata": {},
   "outputs": [
    {
     "name": "stdout",
     "output_type": "stream",
     "text": [
      "True\n",
      "False\n"
     ]
    }
   ],
   "source": [
    "# in 연산자\n",
    "print('안녕' in '안녕하세요')\n",
    "print('강녕' in '안녕하세요')"
   ]
  },
  {
   "cell_type": "code",
   "execution_count": 44,
   "id": "80b447b4",
   "metadata": {},
   "outputs": [
    {
     "name": "stdout",
     "output_type": "stream",
     "text": [
      "정수 입력 >>> -100\n",
      "음수\n"
     ]
    }
   ],
   "source": [
    "# 흐름 제어\n",
    "# if\n",
    "\n",
    "# input 함수는 문자열을 반환함\n",
    "num1 = input('정수 입력 >>> ')\n",
    "num2 = int(num1)\n",
    "\n",
    "if num2>0 :\n",
    "    print('양수')\n",
    "\n",
    "if num2<0 :\n",
    "    print('음수')\n",
    "    \n",
    "if num2 == 0 :\n",
    "    print('0')"
   ]
  },
  {
   "cell_type": "code",
   "execution_count": 47,
   "id": "5216f088",
   "metadata": {},
   "outputs": [
    {
     "name": "stdout",
     "output_type": "stream",
     "text": [
      "정수 입력 >>> 0\n",
      "0\n"
     ]
    }
   ],
   "source": [
    "# 흐름 제어\n",
    "# if\n",
    "\n",
    "# input 함수는 문자열을 반환함\n",
    "num1 = input('정수 입력 >>> ')\n",
    "num2 = int(num1)\n",
    "\n",
    "if num2>0 :\n",
    "    print('양수')\n",
    "elif num2<0 :\n",
    "    print('음수')\n",
    "else :\n",
    "    print('0')"
   ]
  },
  {
   "cell_type": "code",
   "execution_count": 50,
   "id": "37336342",
   "metadata": {},
   "outputs": [
    {
     "name": "stdout",
     "output_type": "stream",
     "text": [
      "빈 리스트는 False\n"
     ]
    }
   ],
   "source": [
    "# 0은 False\n",
    "# 공백 문자열은 False\n",
    "# 빈 리스트는 False\n",
    "# None : 함수에서 반환값이 없을 때 반환되는 값 => Flase\n",
    "\n",
    "if [] :\n",
    "    print('빈 리스트는 True')\n",
    "else :\n",
    "    print('빈 리스트는 False')"
   ]
  },
  {
   "cell_type": "code",
   "execution_count": 51,
   "id": "2e6c5402",
   "metadata": {},
   "outputs": [],
   "source": [
    "# pass 키워드\n",
    "\n",
    "num3 = 10\n",
    "\n",
    "if num3 > 0 :\n",
    "    pass\n",
    "else :\n",
    "    pass"
   ]
  },
  {
   "cell_type": "code",
   "execution_count": 57,
   "id": "2d003a7f",
   "metadata": {},
   "outputs": [
    {
     "name": "stdout",
     "output_type": "stream",
     "text": [
      "55\n",
      "JCS J JC\n",
      "True\n",
      "참\n",
      "[10, 900, 55, 'JCS', False, False]\n"
     ]
    },
    {
     "ename": "IndexError",
     "evalue": "list index out of range",
     "output_type": "error",
     "traceback": [
      "\u001b[1;31m---------------------------------------------------------------------------\u001b[0m",
      "\u001b[1;31mIndexError\u001b[0m                                Traceback (most recent call last)",
      "\u001b[1;32m~\\AppData\\Local\\Temp\\ipykernel_9076\\2507225738.py\u001b[0m in \u001b[0;36m<module>\u001b[1;34m\u001b[0m\n\u001b[0;32m     15\u001b[0m \u001b[0mprint\u001b[0m\u001b[1;33m(\u001b[0m\u001b[0mlist_temp\u001b[0m\u001b[1;33m)\u001b[0m\u001b[1;33m\u001b[0m\u001b[1;33m\u001b[0m\u001b[0m\n\u001b[0;32m     16\u001b[0m \u001b[1;33m\u001b[0m\u001b[0m\n\u001b[1;32m---> 17\u001b[1;33m \u001b[0mprint\u001b[0m\u001b[1;33m(\u001b[0m\u001b[0mlist_temp\u001b[0m\u001b[1;33m[\u001b[0m\u001b[1;36m12\u001b[0m\u001b[1;33m]\u001b[0m\u001b[1;33m)\u001b[0m\u001b[1;33m\u001b[0m\u001b[1;33m\u001b[0m\u001b[0m\n\u001b[0m",
      "\u001b[1;31mIndexError\u001b[0m: list index out of range"
     ]
    }
   ],
   "source": [
    "# list 자료형 : 배열과 비슷한 형태, 집합처럼 데이터를 묶어서 사용\n",
    "# 데이터의 타입은 서로 일치하지 않아도 됨\n",
    "# [] 사용, 인덱스 값을 통해서 참조\n",
    "\n",
    "list_temp = [10, 900, 55, 'JCS', True, False]\n",
    "\n",
    "print(list_temp[2])\n",
    "print(list_temp[3], list_temp[3][0], list_temp[3][:2])\n",
    "print(list_temp[-2])\n",
    "\n",
    "if list_temp[-2] :\n",
    "    print('참')\n",
    "    list_temp[-2] = False\n",
    "    \n",
    "print(list_temp)\n",
    "\n",
    "print(list_temp[12])"
   ]
  },
  {
   "cell_type": "code",
   "execution_count": null,
   "id": "113ba7d1",
   "metadata": {},
   "outputs": [],
   "source": [
    "# list 연산 : +, *"
   ]
  },
  {
   "cell_type": "code",
   "execution_count": null,
   "id": "e10cf6f2",
   "metadata": {},
   "outputs": [],
   "source": [
    "# 함수 : len(), extend(), append(), insert(), del(), remove(), clear()"
   ]
  },
  {
   "cell_type": "code",
   "execution_count": 71,
   "id": "d4f2b102",
   "metadata": {},
   "outputs": [
    {
     "name": "stdout",
     "output_type": "stream",
     "text": [
      "[1, 2, 3, 4, 5, 6]\n",
      "[1, 2, 3]\n",
      "[4, 5, 6]\n",
      "list_a 리스트 요소의 개수 :  3\n",
      "요소 추가 >>>  [1, 2, 3, 4]\n",
      "0번지에 요소 100 추가 >>>  [100, 1, 2, 3, 4]\n",
      "원본 리스트에 데이터를 추가 >>>  [4, 5, 6, 100, 800, 822]\n",
      "삭제 del >>>  [4, 5, 6, 100, 822]\n",
      "삭제 pop [4, 5, 6, 100]\n",
      "삭제 remove [4, 5, 6]\n",
      "[1, 4, 5, 6, 7, 8, 9, 10, 11, 12]\n",
      "[6, 7, 8, 9, 10, 11, 12]\n",
      "전체 삭제 []\n",
      "True\n"
     ]
    }
   ],
   "source": [
    "# list 연산 : +, *\n",
    "# + 연산 : list의 연결 => 새로운 리스트 생성\n",
    "# 함수 : len(), extend(), append(), insert(), del(), remove(), clear()\n",
    "# in 연산 : 내부에 요소가 있는지 확인\n",
    "\n",
    "list_a = [1, 2, 3]\n",
    "list_b = [4, 5, 6]\n",
    "\n",
    "print(list_a+list_b)\n",
    "print(list_a)\n",
    "print(list_b)\n",
    "print('list_a 리스트 요소의 개수 : ', len(list_a))\n",
    "\n",
    "list_a.append(4)\n",
    "print('요소 추가 >>> ', list_a)\n",
    "\n",
    "list_a.insert(0, 100)\n",
    "print('0번지에 요소 100 추가 >>> ', list_a)\n",
    "\n",
    "list_b.extend([100, 800, 822])\n",
    "print('원본 리스트에 데이터를 추가 >>> ', list_b)\n",
    "\n",
    "del list_b[4]\n",
    "print('삭제 del >>> ', list_b)\n",
    "\n",
    "list_b.pop(4)\n",
    "print('삭제 pop', list_b)\n",
    "\n",
    "list_b.remove(100)\n",
    "print('삭제 remove', list_b)\n",
    "\n",
    "list_c = [1, 2, 3, 4, 5, 6, 7, 8, 9, 10, 11, 12]\n",
    "del list_c[1:3]\n",
    "print(list_c)\n",
    "\n",
    "# [6, 7, 8, 9, 10, 11, 12]\n",
    "del list_c[:3]\n",
    "print(list_c)\n",
    "\n",
    "list_c.clear()\n",
    "print('전체 삭제', list_c)\n",
    "\n",
    "print(5 in list_b)"
   ]
  },
  {
   "cell_type": "code",
   "execution_count": 73,
   "id": "8e8ec9e9",
   "metadata": {},
   "outputs": [
    {
     "name": "stdout",
     "output_type": "stream",
     "text": [
      "0\n",
      "1\n",
      "2\n",
      "3\n",
      "4\n",
      "4\n",
      "5\n",
      "6\n"
     ]
    }
   ],
   "source": [
    "# for 반복문\n",
    "# range(index, 종료 위치, step) 종료위치-1까지\n",
    "\n",
    "for i in range(5):\n",
    "    print(i)\n",
    "    \n",
    "for item in list_b :\n",
    "    print(item)"
   ]
  },
  {
   "cell_type": "code",
   "execution_count": 2,
   "id": "04b31cb9",
   "metadata": {},
   "outputs": [
    {
     "name": "stdout",
     "output_type": "stream",
     "text": [
      "<class 'dict'> {}\n"
     ]
    }
   ],
   "source": [
    "# 딕셔너리 : list처럼 데이터를 묶음으로 저장하는 방식\n",
    "# 저장: key, value 형식으로 저장\n",
    "# 참조: key값으로 참조\n",
    "\n",
    "dic_a = {}\n",
    "print(type(dic_a), dic_a)"
   ]
  },
  {
   "cell_type": "code",
   "execution_count": 6,
   "id": "2e47cb99",
   "metadata": {},
   "outputs": [
    {
     "name": "stdout",
     "output_type": "stream",
     "text": [
      "dictionary :  {1, 2, 3, 4, 5}\n",
      "list :  [1, 2, 3, 4, 5, 1, 2, 3]\n"
     ]
    }
   ],
   "source": [
    "dic_b = {1, 2, 3, 4, 5, 1, 2, 3}\n",
    "list_a1= [1, 2, 3, 4, 5, 1, 2, 3]\n",
    "print('dictionary : ', dic_b)\n",
    "print('list : ', list_a1)"
   ]
  },
  {
   "cell_type": "code",
   "execution_count": 8,
   "id": "2f8bbb85",
   "metadata": {},
   "outputs": [
    {
     "name": "stdout",
     "output_type": "stream",
     "text": [
      "{'no': 7, 'name': '백형훈'}\n",
      "7\n",
      "백형훈\n"
     ]
    }
   ],
   "source": [
    "# data 저장\n",
    "dic_c = {\n",
    "    'no' : 7,\n",
    "    'name' : '백형훈'\n",
    "}\n",
    "print(dic_c)\n",
    "\n",
    "# data 참조\n",
    "print(dic_c['no'])\n",
    "print(dic_c['name'])"
   ]
  },
  {
   "cell_type": "code",
   "execution_count": 9,
   "id": "502ae7e2",
   "metadata": {},
   "outputs": [
    {
     "name": "stdout",
     "output_type": "stream",
     "text": [
      "{'no': 7, 'name': '백형훈', 'team': 'JSC'}\n"
     ]
    }
   ],
   "source": [
    "# key-value로 data추가\n",
    "dic_c['team'] = 'JSC'\n",
    "print(dic_c)"
   ]
  },
  {
   "cell_type": "code",
   "execution_count": 10,
   "id": "81e29388",
   "metadata": {},
   "outputs": [
    {
     "name": "stdout",
     "output_type": "stream",
     "text": [
      "{'no': 7, 'name': '백형훈'}\n"
     ]
    }
   ],
   "source": [
    "# data 삭제\n",
    "del dic_c['team']\n",
    "print(dic_c)"
   ]
  },
  {
   "cell_type": "code",
   "execution_count": 11,
   "id": "94c841bc",
   "metadata": {},
   "outputs": [
    {
     "ename": "KeyError",
     "evalue": "'team'",
     "output_type": "error",
     "traceback": [
      "\u001b[1;31m---------------------------------------------------------------------------\u001b[0m",
      "\u001b[1;31mKeyError\u001b[0m                                  Traceback (most recent call last)",
      "\u001b[1;32m~\\AppData\\Local\\Temp\\ipykernel_8296\\3681583083.py\u001b[0m in \u001b[0;36m<module>\u001b[1;34m\u001b[0m\n\u001b[1;32m----> 1\u001b[1;33m \u001b[0mprint\u001b[0m\u001b[1;33m(\u001b[0m\u001b[0mdic_c\u001b[0m\u001b[1;33m[\u001b[0m\u001b[1;34m'team'\u001b[0m\u001b[1;33m]\u001b[0m\u001b[1;33m)\u001b[0m\u001b[1;33m\u001b[0m\u001b[1;33m\u001b[0m\u001b[0m\n\u001b[0m",
      "\u001b[1;31mKeyError\u001b[0m: 'team'"
     ]
    }
   ],
   "source": [
    "print(dic_c['team'])"
   ]
  },
  {
   "cell_type": "code",
   "execution_count": 12,
   "id": "8bfaee08",
   "metadata": {},
   "outputs": [
    {
     "name": "stdout",
     "output_type": "stream",
     "text": [
      "None\n"
     ]
    }
   ],
   "source": [
    "print(dic_c.get('team'))"
   ]
  },
  {
   "cell_type": "code",
   "execution_count": 14,
   "id": "b3713b4f",
   "metadata": {},
   "outputs": [
    {
     "name": "stdout",
     "output_type": "stream",
     "text": [
      "존재하지 않는 key입니다.\n"
     ]
    }
   ],
   "source": [
    "key = 'team'\n",
    "if key in dic_c :\n",
    "    print(dic_c[key])\n",
    "else :\n",
    "    print(\"존재하지 않는 key입니다.\")"
   ]
  },
  {
   "cell_type": "code",
   "execution_count": 16,
   "id": "173c684d",
   "metadata": {},
   "outputs": [
    {
     "name": "stdout",
     "output_type": "stream",
     "text": [
      "None\n",
      "존재하지 않는 key입니다.\n"
     ]
    }
   ],
   "source": [
    "# 보다 안전한 형식으로 접근하기\n",
    "playerName = dic_c.get('team')\n",
    "\n",
    "print(playerName)\n",
    "\n",
    "if playerName == None :\n",
    "     print(\"존재하지 않는 key입니다.\")\n"
   ]
  },
  {
   "cell_type": "code",
   "execution_count": 18,
   "id": "bb0fbb8d",
   "metadata": {},
   "outputs": [
    {
     "name": "stdout",
     "output_type": "stream",
     "text": [
      "no 7\n",
      "name 백형훈\n"
     ]
    }
   ],
   "source": [
    "for key in dic_c :\n",
    "    print(key, dic_c[key]) # key로 반복하며 value값"
   ]
  },
  {
   "cell_type": "code",
   "execution_count": null,
   "id": "9138ec72",
   "metadata": {},
   "outputs": [],
   "source": [
    "# range() : 특정 범위의 숫자를 생성\n",
    "# range(n) : 0 ~ n-1 범위의 숫자 생성\n",
    "# range(index, n) : index ~ n-1\n",
    "# range(index, n, step) : index ~ n-1, 값은 step만큼 증가"
   ]
  },
  {
   "cell_type": "code",
   "execution_count": 26,
   "id": "98654d02",
   "metadata": {},
   "outputs": [
    {
     "name": "stdout",
     "output_type": "stream",
     "text": [
      "<class 'range'> range(1, 10, 3)\n",
      "[1, 4, 7]\n",
      "반복\n",
      "반복\n",
      "반복\n"
     ]
    }
   ],
   "source": [
    "a = range(1, 10, 3)\n",
    "print(type(a), a)\n",
    "list_b = list(a)\n",
    "print(list_b)\n",
    "\n",
    "# 출력 횟수로도 처리 가능\n",
    "for i in a :\n",
    "    print('반복')"
   ]
  },
  {
   "cell_type": "code",
   "execution_count": 28,
   "id": "5088821f",
   "metadata": {},
   "outputs": [
    {
     "name": "stdout",
     "output_type": "stream",
     "text": [
      "1 1\n",
      "7 2\n",
      "17 3\n",
      "100 4\n",
      "14 5\n"
     ]
    }
   ],
   "source": [
    "list_c = [1, 7, 17, 100, 14]\n",
    "\n",
    "cnt = 0\n",
    "\n",
    "for item in list_c :\n",
    "    cnt += 1\n",
    "    print(item, cnt)"
   ]
  },
  {
   "cell_type": "code",
   "execution_count": 29,
   "id": "cd5003d5",
   "metadata": {},
   "outputs": [
    {
     "name": "stdout",
     "output_type": "stream",
     "text": [
      "1 1\n",
      "2 7\n",
      "3 17\n",
      "4 100\n",
      "5 14\n"
     ]
    }
   ],
   "source": [
    "for i in range(len(list_c)) : # 배열의 개수\n",
    "    print(i+1, list_c[i])"
   ]
  },
  {
   "cell_type": "code",
   "execution_count": 31,
   "id": "3e6c4dcb",
   "metadata": {},
   "outputs": [
    {
     "name": "stdout",
     "output_type": "stream",
     "text": [
      "5\n",
      "4\n",
      "3\n",
      "2\n",
      "1\n"
     ]
    }
   ],
   "source": [
    "# 역순 출력\n",
    "for i in range(5, 0, -1) :\n",
    "    print(i)"
   ]
  },
  {
   "cell_type": "code",
   "execution_count": 34,
   "id": "cbf5c443",
   "metadata": {},
   "outputs": [
    {
     "name": "stdout",
     "output_type": "stream",
     "text": [
      "5\n",
      "4\n",
      "3\n",
      "2\n",
      "1\n"
     ]
    }
   ],
   "source": [
    "for i in reversed(range(1, 5+1)) :\n",
    "    print(i)"
   ]
  },
  {
   "cell_type": "code",
   "execution_count": 35,
   "id": "09d96649",
   "metadata": {},
   "outputs": [
    {
     "name": "stdout",
     "output_type": "stream",
     "text": [
      "0\n",
      "1\n",
      "2\n",
      "3\n",
      "4\n"
     ]
    }
   ],
   "source": [
    "# while : 반복문 -> 조건의 결과를 True로 설정하는 경우 사용\n",
    "\n",
    "i = 0\n",
    "while i<5 :\n",
    "    print(i)\n",
    "    i += 1"
   ]
  },
  {
   "cell_type": "code",
   "execution_count": 37,
   "id": "e0e60c1a",
   "metadata": {},
   "outputs": [
    {
     "name": "stdout",
     "output_type": "stream",
     "text": [
      "[1, 2, 1, 2]\n",
      "[2, 2]\n"
     ]
    }
   ],
   "source": [
    "list_d = [1, 2, 1, 2]\n",
    "print(list_d)\n",
    "#list_d.remove(1)\n",
    "\n",
    "while 1 in list_d :\n",
    "    list_d.remove(1)\n",
    "\n",
    "print(list_d)"
   ]
  },
  {
   "cell_type": "code",
   "execution_count": null,
   "id": "4ece4f87",
   "metadata": {},
   "outputs": [],
   "source": [
    "# 함수 : input -> 처리 -> return\n",
    "# 매개변수 처리 -> 가변 매개변수, 매개변수의 기본값\n",
    "# def 함수이름() :  ... return"
   ]
  },
  {
   "cell_type": "code",
   "execution_count": 38,
   "id": "211997d2",
   "metadata": {},
   "outputs": [
    {
     "name": "stdout",
     "output_type": "stream",
     "text": [
      "안녕\n",
      "안녕\n",
      "안녕\n"
     ]
    }
   ],
   "source": [
    "def print_3() :\n",
    "    print('안녕')\n",
    "    print('안녕')\n",
    "    print('안녕')\n",
    "\n",
    "print_3()"
   ]
  },
  {
   "cell_type": "code",
   "execution_count": 41,
   "id": "0a97b736",
   "metadata": {},
   "outputs": [
    {
     "name": "stdout",
     "output_type": "stream",
     "text": [
      "Hello!!\n",
      "Hello!!\n",
      "Hello!!\n"
     ]
    },
    {
     "ename": "TypeError",
     "evalue": "print_times() missing 1 required positional argument: 'n'",
     "output_type": "error",
     "traceback": [
      "\u001b[1;31m---------------------------------------------------------------------------\u001b[0m",
      "\u001b[1;31mTypeError\u001b[0m                                 Traceback (most recent call last)",
      "\u001b[1;32m~\\AppData\\Local\\Temp\\ipykernel_8296\\39311968.py\u001b[0m in \u001b[0;36m<module>\u001b[1;34m\u001b[0m\n\u001b[0;32m      4\u001b[0m \u001b[1;33m\u001b[0m\u001b[0m\n\u001b[0;32m      5\u001b[0m \u001b[0mprint_times\u001b[0m\u001b[1;33m(\u001b[0m\u001b[1;34m'Hello!!'\u001b[0m\u001b[1;33m,\u001b[0m \u001b[1;36m3\u001b[0m\u001b[1;33m)\u001b[0m\u001b[1;33m\u001b[0m\u001b[1;33m\u001b[0m\u001b[0m\n\u001b[1;32m----> 6\u001b[1;33m \u001b[0mprint_times\u001b[0m\u001b[1;33m(\u001b[0m\u001b[1;34m'Hello!!'\u001b[0m\u001b[1;33m)\u001b[0m\u001b[1;33m\u001b[0m\u001b[1;33m\u001b[0m\u001b[0m\n\u001b[0m",
      "\u001b[1;31mTypeError\u001b[0m: print_times() missing 1 required positional argument: 'n'"
     ]
    }
   ],
   "source": [
    "def print_times(value, n) :\n",
    "    for i in range(n) :\n",
    "        print(value)\n",
    "        \n",
    "print_times('Hello!!', 3)\n",
    "print_times()"
   ]
  },
  {
   "cell_type": "code",
   "execution_count": 42,
   "id": "35d59304",
   "metadata": {},
   "outputs": [
    {
     "name": "stdout",
     "output_type": "stream",
     "text": [
      "백\n",
      "형\n",
      "훈\n",
      "-----\n",
      "백\n",
      "형\n",
      "훈\n",
      "-----\n",
      "백\n",
      "형\n",
      "훈\n",
      "-----\n"
     ]
    }
   ],
   "source": [
    "# * 를 붙여서 복수의 data를 list 형태로 받을 수 있는 가변 매개변수로 생성\n",
    "def print_n_times(n, *values) :\n",
    "    for i in range(n) :\n",
    "        for value in values :\n",
    "            print(value)\n",
    "        print('-----')\n",
    "        \n",
    "print_n_times(3, '백', '형', '훈')"
   ]
  },
  {
   "cell_type": "code",
   "execution_count": 44,
   "id": "82142894",
   "metadata": {},
   "outputs": [
    {
     "name": "stdout",
     "output_type": "stream",
     "text": [
      "백\n",
      "형\n",
      "훈\n",
      "-----\n",
      "백\n",
      "형\n",
      "훈\n",
      "-----\n",
      "백\n",
      "형\n",
      "훈\n",
      "-----\n",
      "백\n",
      "형\n",
      "훈\n",
      "-----\n",
      "백\n",
      "형\n",
      "훈\n",
      "-----\n"
     ]
    }
   ],
   "source": [
    "# * 를 붙여서 복수의 data를 list 형태로 받을 수 있는 가변 매개변수로 생성\n",
    "def print_n_times(*values, n=2) :\n",
    "    for i in range(n) :\n",
    "        for value in values :\n",
    "            print(value)\n",
    "        print('-----')\n",
    "        \n",
    "print_n_times('백', '형', '훈', n=5)"
   ]
  },
  {
   "cell_type": "code",
   "execution_count": 47,
   "id": "ce0a3c58",
   "metadata": {},
   "outputs": [
    {
     "name": "stdout",
     "output_type": "stream",
     "text": [
      "60\n",
      "610\n",
      "298\n"
     ]
    }
   ],
   "source": [
    "def test(a, b=100, c=188) :\n",
    "    print(a+b+c)\n",
    "    \n",
    "test(10, 20, 30)\n",
    "test(c=10, b=100, a=500) # 각 변수에 값을 지정해주면 순서 바뀌어도 상관X\n",
    "test(10)"
   ]
  },
  {
   "cell_type": "code",
   "execution_count": 52,
   "id": "cf9b5f38",
   "metadata": {},
   "outputs": [
    {
     "name": "stdout",
     "output_type": "stream",
     "text": [
      "5050\n",
      "55\n",
      "2550\n"
     ]
    }
   ],
   "source": [
    "# 값에 따라 정제되어 나와야 하는 경우 사용\n",
    "def sum_all(start=0, end=100, step=1) :\n",
    "    output = 0\n",
    "    \n",
    "    for i in range(start, end+1, step) :\n",
    "        output += i\n",
    "        \n",
    "    return output\n",
    "\n",
    "print(sum_all())\n",
    "print(sum_all(end=10))\n",
    "print(sum_all(end=100, step=2))"
   ]
  },
  {
   "cell_type": "code",
   "execution_count": null,
   "id": "a5d979ee",
   "metadata": {},
   "outputs": [],
   "source": []
  }
 ],
 "metadata": {
  "kernelspec": {
   "display_name": "Python 3 (ipykernel)",
   "language": "python",
   "name": "python3"
  },
  "language_info": {
   "codemirror_mode": {
    "name": "ipython",
    "version": 3
   },
   "file_extension": ".py",
   "mimetype": "text/x-python",
   "name": "python",
   "nbconvert_exporter": "python",
   "pygments_lexer": "ipython3",
   "version": "3.9.13"
  }
 },
 "nbformat": 4,
 "nbformat_minor": 5
}
