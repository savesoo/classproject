{
 "cells": [
  {
   "cell_type": "code",
   "execution_count": 4,
   "id": "0bbc88d2",
   "metadata": {},
   "outputs": [
    {
     "name": "stdout",
     "output_type": "stream",
     "text": [
      "    \n",
      "    홍길동: 1234, Gil-Dong Hong,\n",
      "    이길동: 3915, Gil-Dong Lee,\n",
      "    박길동: 0000, Gil-Dong Park\n",
      "\n"
     ]
    }
   ],
   "source": [
    "b = \"\"\"    \n",
    "    홍길동: 1234, Gil-Dong Hong,\n",
    "    이길동: 3915, Gil-Dong Lee,\n",
    "    박길동: 0000, Gil-Dong Park\n",
    "\"\"\"\n",
    "print(b)"
   ]
  },
  {
   "cell_type": "code",
   "execution_count": 5,
   "id": "064db14c",
   "metadata": {},
   "outputs": [
    {
     "name": "stdout",
     "output_type": "stream",
     "text": [
      "홍길동: 1234, Gil-Dong Hong,\n",
      "    이길동: 3915, Gil-Dong Lee,\n",
      "    박길동: 0000, Gil-Dong Park\n"
     ]
    }
   ],
   "source": [
    "# 좌우 공백 제거\n",
    "b = b.strip()\n",
    "print(b)"
   ]
  },
  {
   "cell_type": "code",
   "execution_count": 6,
   "id": "0c913ec1",
   "metadata": {},
   "outputs": [
    {
     "name": "stdout",
     "output_type": "stream",
     "text": [
      "['홍길동: 1234, Gil-Dong Hong,', '    이길동: 3915, Gil-Dong Lee,', '    박길동: 0000, Gil-Dong Park']\n"
     ]
    }
   ],
   "source": [
    "# 개행을 기준으로 분할\n",
    "list_temp = b.split('\\n')\n",
    "print(list)"
   ]
  },
  {
   "cell_type": "code",
   "execution_count": 11,
   "id": "3ff7570c",
   "metadata": {},
   "outputs": [
    {
     "name": "stdout",
     "output_type": "stream",
     "text": [
      "    박길동: 0000, Gil-Dong Park\n",
      "['    박길동', ' 0000, Gil-Dong Park']\n",
      "박길동\n"
     ]
    }
   ],
   "source": [
    "# : 으로 구분\n",
    "# print(list_temp[0])\n",
    "# result = list_temp[0].split(':')\n",
    "# print(result)\n",
    "# print(result[0])\n",
    "\n",
    "# 좌우 여백 제거\n",
    "print(list_temp[2])\n",
    "result = list_temp[2].split(':')\n",
    "print(result)\n",
    "print(result[0].strip())"
   ]
  },
  {
   "cell_type": "code",
   "execution_count": 13,
   "id": "1e89566a",
   "metadata": {},
   "outputs": [
    {
     "name": "stdout",
     "output_type": "stream",
     "text": [
      "홍길동\n",
      "이길동\n",
      "박길동\n"
     ]
    }
   ],
   "source": [
    "for i in list :\n",
    "    i = i.split(':')\n",
    "    i = i[0].strip()\n",
    "    print(i)"
   ]
  },
  {
   "cell_type": "code",
   "execution_count": 14,
   "id": "595f332d",
   "metadata": {},
   "outputs": [
    {
     "name": "stdout",
     "output_type": "stream",
     "text": [
      "\n",
      "        <div class=\"select_div\">\n",
      "            <span data-i18n=\"footer.relationSites\">연관사이트</span>\n",
      "            <ul>\n",
      "\n",
      "\n",
      "            </ul>\n",
      "        </div>\n",
      "        <ul class=\"list_sns\">\n",
      "            <li><a href=\"https://www.facebook.com/ekoreatech\" target=\"_blank\"><img src=\"/res/lms/img/common/btn_footer_sns1.png\" alt=\"페이스북\"></a></li>\n",
      "            <li><a href=\"https://blog.naver.com/e-koreatech\" target=\"_blank\"><img src=\"/res/lms/img/common/btn_footer_sns2.png\" alt=\"블로그\"></a></li>\n",
      "            <li><a href=\"https://www.youtube.com/user/koreatecholei\" target=\"_blank\"><img src=\"/res/lms/img/common/btn_footer_sns3.png\" alt=\"유트브\"></a></li>\n",
      "        </ul>\n",
      "\n"
     ]
    }
   ],
   "source": [
    "c = \"\"\"\n",
    "        <div class=\"select_div\">\n",
    "            <span data-i18n=\"footer.relationSites\">연관사이트</span>\n",
    "            <ul>\n",
    "\n",
    "\n",
    "            </ul>\n",
    "        </div>\n",
    "        <ul class=\"list_sns\">\n",
    "            <li><a href=\"https://www.facebook.com/ekoreatech\" target=\"_blank\"><img src=\"/res/lms/img/common/btn_footer_sns1.png\" alt=\"페이스북\"></a></li>\n",
    "            <li><a href=\"https://blog.naver.com/e-koreatech\" target=\"_blank\"><img src=\"/res/lms/img/common/btn_footer_sns2.png\" alt=\"블로그\"></a></li>\n",
    "            <li><a href=\"https://www.youtube.com/user/koreatecholei\" target=\"_blank\"><img src=\"/res/lms/img/common/btn_footer_sns3.png\" alt=\"유트브\"></a></li>\n",
    "        </ul>\n",
    "\"\"\"\n",
    "print(c)"
   ]
  },
  {
   "cell_type": "code",
   "execution_count": 15,
   "id": "9191cb76",
   "metadata": {},
   "outputs": [
    {
     "data": {
      "text/plain": [
       "169"
      ]
     },
     "execution_count": 15,
     "metadata": {},
     "output_type": "execute_result"
    }
   ],
   "source": [
    "# find 함수로 index 찾기\n",
    "c.find('list_sns')"
   ]
  },
  {
   "cell_type": "code",
   "execution_count": 16,
   "id": "5989a5b3",
   "metadata": {},
   "outputs": [
    {
     "name": "stdout",
     "output_type": "stream",
     "text": [
      "list_sns\">\n",
      "            <li><a href=\"https://www.facebook.com/ekoreatech\" target=\"_blank\"><img src=\"/res/lms/img/common/btn_footer_sns1.png\" alt=\"페이스북\"></a></li>\n",
      "            <li><a href=\"https://blog.naver.com/e-koreatech\" target=\"_blank\"><img src=\"/res/lms/img/common/btn_footer_sns2.png\" alt=\"블로그\"></a></li>\n",
      "            <li><a href=\"https://www.youtube.com/user/koreatecholei\" target=\"_blank\"><img src=\"/res/lms/img/common/btn_footer_sns3.png\" alt=\"유트브\"></a></li>\n",
      "        </ul>\n",
      "\n"
     ]
    }
   ],
   "source": [
    "temp = c[169:]\n",
    "print(temp)"
   ]
  },
  {
   "cell_type": "code",
   "execution_count": 17,
   "id": "2fe65927",
   "metadata": {},
   "outputs": [
    {
     "name": "stdout",
     "output_type": "stream",
     "text": [
      "['list_sns\">\\n            <li><a href=\"https://www.facebook.com/ekoreatech\" target=\"_blank\"><img src=\"/res/lms/img/common/btn_footer_sns1.png\" alt=\"페이스북\"></a>', '\\n            <li><a href=\"https://blog.naver.com/e-koreatech\" target=\"_blank\"><img src=\"/res/lms/img/common/btn_footer_sns2.png\" alt=\"블로그\"></a>', '\\n            <li><a href=\"https://www.youtube.com/user/koreatecholei\" target=\"_blank\"><img src=\"/res/lms/img/common/btn_footer_sns3.png\" alt=\"유트브\"></a>', '\\n        </ul>\\n']\n"
     ]
    }
   ],
   "source": [
    "temp = temp.split('</li>')\n",
    "print(temp)"
   ]
  },
  {
   "cell_type": "code",
   "execution_count": 18,
   "id": "7ef9f21c",
   "metadata": {},
   "outputs": [
    {
     "name": "stdout",
     "output_type": "stream",
     "text": [
      "list_sns\">\n",
      "            <li><a href=\"https://www.facebook.com/ekoreatech\" target=\"_blank\"><img src=\"/res/lms/img/common/btn_footer_sns1.png\" alt=\"페이스북\"></a>\n"
     ]
    }
   ],
   "source": [
    "print(temp[0])"
   ]
  },
  {
   "cell_type": "code",
   "execution_count": 42,
   "id": "8ee59f45",
   "metadata": {},
   "outputs": [
    {
     "name": "stdout",
     "output_type": "stream",
     "text": [
      "list_sns\">\n",
      "            <li><a href=\"https://www.facebook.com/ekoreatech\n"
     ]
    }
   ],
   "source": [
    "url = temp[0].split('\" target')[0]\n",
    "print(url)"
   ]
  },
  {
   "cell_type": "code",
   "execution_count": 43,
   "id": "3937723c",
   "metadata": {},
   "outputs": [
    {
     "name": "stdout",
     "output_type": "stream",
     "text": [
      "['list_sns\">\\n            <li><a ', 'https://www.facebook.com/ekoreatech']\n"
     ]
    }
   ],
   "source": [
    "url = url.split('href=\"')\n",
    "print(url)"
   ]
  },
  {
   "cell_type": "code",
   "execution_count": 44,
   "id": "51c04e45",
   "metadata": {},
   "outputs": [
    {
     "name": "stdout",
     "output_type": "stream",
     "text": [
      "https://www.facebook.com/ekoreatech\n"
     ]
    }
   ],
   "source": [
    "url = url[1]\n",
    "print(url)"
   ]
  },
  {
   "cell_type": "code",
   "execution_count": 57,
   "id": "72238dcf",
   "metadata": {},
   "outputs": [
    {
     "name": "stdout",
     "output_type": "stream",
     "text": [
      "list_sns\">\n",
      "            <li><a href=\"https://www.facebook.com/ekoreatech\" target=\"_blank\"><img src=\"/res/lms/img/common/btn_footer_sns1.png\" alt=\"페이스북\"></a>\n"
     ]
    }
   ],
   "source": [
    "print(temp[0])"
   ]
  },
  {
   "cell_type": "code",
   "execution_count": 58,
   "id": "61e41028",
   "metadata": {},
   "outputs": [
    {
     "name": "stdout",
     "output_type": "stream",
     "text": [
      "페이스북\"></a>\n"
     ]
    }
   ],
   "source": [
    "name = temp[0].split('alt=\"')[1]\n",
    "print(name)"
   ]
  },
  {
   "cell_type": "code",
   "execution_count": 59,
   "id": "5617cfa7",
   "metadata": {},
   "outputs": [
    {
     "name": "stdout",
     "output_type": "stream",
     "text": [
      "페이스북\n"
     ]
    }
   ],
   "source": [
    "# name.find('\"') 를 사용해 index 기준으로 text 출력 \n",
    "name = name[:name.find('\"')]\n",
    "print(name)"
   ]
  },
  {
   "cell_type": "code",
   "execution_count": 63,
   "id": "ed9ee8d7",
   "metadata": {},
   "outputs": [
    {
     "name": "stdout",
     "output_type": "stream",
     "text": [
      "https://www.facebook.com/ekoreatech\n",
      "페이스북\n",
      "https://blog.naver.com/e-koreatech\n",
      "블로그\n",
      "https://www.youtube.com/user/koreatecholei\n",
      "유트브\n"
     ]
    }
   ],
   "source": [
    "for i in range(len(temp)-1) :\n",
    "    url = temp[i].split('\" target')[0]\n",
    "    url = url.split('href=\"')[1]\n",
    "    print(url)\n",
    "    name = temp[i].split('alt=\"')[1]\n",
    "    name = name[:name.find('\"')]\n",
    "    print(name)"
   ]
  },
  {
   "cell_type": "code",
   "execution_count": 64,
   "id": "f8c8e6c5",
   "metadata": {},
   "outputs": [
    {
     "name": "stdout",
     "output_type": "stream",
     "text": [
      "2345\n"
     ]
    }
   ],
   "source": [
    "# 정규표현식으로 필요한 데이터 찾기\n",
    "import re\n",
    "\n",
    "a = 'a, 2, 3, 4, 5'\n",
    "pattern = re.compile('[^0-9]')\n",
    "result = re.sub(pattern, '', a)\n",
    "print(result)"
   ]
  },
  {
   "cell_type": "code",
   "execution_count": 65,
   "id": "fd70ef8c",
   "metadata": {},
   "outputs": [
    {
     "name": "stdout",
     "output_type": "stream",
     "text": [
      "홍길동: 1234, Gil-Dong Hong,\n",
      "    이길동: 3915, Gil-Dong Lee,\n",
      "    박길동: 0000, Gil-Dong Park\n"
     ]
    }
   ],
   "source": [
    "print(b)"
   ]
  },
  {
   "cell_type": "code",
   "execution_count": 66,
   "id": "9f73a243",
   "metadata": {},
   "outputs": [
    {
     "name": "stdout",
     "output_type": "stream",
     "text": [
      "홍길동이길동박길동\n"
     ]
    }
   ],
   "source": [
    "pattern = re.compile('[^가-힣]')\n",
    "result = re.sub(pattern, '', b)\n",
    "print(result)"
   ]
  },
  {
   "cell_type": "code",
   "execution_count": 67,
   "id": "16f31f0e",
   "metadata": {},
   "outputs": [
    {
     "name": "stdout",
     "output_type": "stream",
     "text": [
      "\n",
      "        <div class=\"select_div\">\n",
      "            <span data-i18n=\"footer.relationSites\">연관사이트</span>\n",
      "            <ul>\n",
      "\n",
      "\n",
      "            </ul>\n",
      "        </div>\n",
      "        <ul class=\"list_sns\">\n",
      "            <li><a href=\"https://www.facebook.com/ekoreatech\" target=\"_blank\"><img src=\"/res/lms/img/common/btn_footer_sns1.png\" alt=\"페이스북\"></a></li>\n",
      "            <li><a href=\"https://blog.naver.com/e-koreatech\" target=\"_blank\"><img src=\"/res/lms/img/common/btn_footer_sns2.png\" alt=\"블로그\"></a></li>\n",
      "            <li><a href=\"https://www.youtube.com/user/koreatecholei\" target=\"_blank\"><img src=\"/res/lms/img/common/btn_footer_sns3.png\" alt=\"유트브\"></a></li>\n",
      "        </ul>\n",
      "\n"
     ]
    }
   ],
   "source": [
    "print(c)"
   ]
  },
  {
   "cell_type": "code",
   "execution_count": 72,
   "id": "a2a2d4b8",
   "metadata": {},
   "outputs": [
    {
     "name": "stdout",
     "output_type": "stream",
     "text": [
      "<re.Match object; span=(205, 248), match='https://www.facebook.com/ekoreatech\" target'>\n",
      "https://www.facebook.com/ekoreatech\" target\n",
      "https://www.facebook.com/ekoreatech\n"
     ]
    }
   ],
   "source": [
    "pattern = re.compile('https://.*\" target')\n",
    "result = pattern.search(c)\n",
    "print(result)\n",
    "print(result.group()) # group() : 결과에 해당하는 함수 하나만 가져옴"
   ]
  },
  {
   "cell_type": "code",
   "execution_count": 73,
   "id": "a08a2079",
   "metadata": {},
   "outputs": [
    {
     "name": "stdout",
     "output_type": "stream",
     "text": [
      "https://www.facebook.com/ekoreatech\n"
     ]
    }
   ],
   "source": [
    "pattern = re.compile('[a-z:/.]*')\n",
    "result = pattern.search(result.group())\n",
    "print(result.group())"
   ]
  },
  {
   "cell_type": "code",
   "execution_count": 1,
   "id": "73aaad9d",
   "metadata": {},
   "outputs": [
    {
     "name": "stdout",
     "output_type": "stream",
     "text": [
      "['movieId', 'title', 'genres']\n",
      "['1', 'Toy Story (1995)', 'Adventure|Animation|Children|Comedy|Fantasy']\n",
      "['2', 'Jumanji (1995)', 'Adventure|Children|Fantasy']\n",
      "['3', 'Grumpier Old Men (1995)', 'Comedy|Romance']\n",
      "['4', 'Waiting to Exhale (1995)', 'Comedy|Drama|Romance']\n"
     ]
    }
   ],
   "source": [
    "import csv\n",
    "\n",
    "f = open('ml-latest-small/movies.csv', 'r')\n",
    "data = csv.reader(f)\n",
    "print(next(data))\n",
    "print(next(data))\n",
    "print(next(data))\n",
    "print(next(data))\n",
    "print(next(data))\n",
    "f.close()"
   ]
  },
  {
   "cell_type": "code",
   "execution_count": 2,
   "id": "c83add52",
   "metadata": {},
   "outputs": [
    {
     "name": "stdout",
     "output_type": "stream",
     "text": [
      "전체 개수 >>>  22084\n"
     ]
    }
   ],
   "source": [
    "f = open('ml-latest-small/movies.csv', 'r', encoding='utf-8')\n",
    "data = csv.reader(f)\n",
    "next(data)\n",
    "\n",
    "result = []\n",
    "for i in data :\n",
    "    result.extend(i[2].split('|')) # list에 추가\n",
    "    \n",
    "#print(result)\n",
    "print('전체 개수 >>> ', len(result))"
   ]
  },
  {
   "cell_type": "code",
   "execution_count": 4,
   "id": "53833163",
   "metadata": {},
   "outputs": [
    {
     "name": "stdout",
     "output_type": "stream",
     "text": [
      "{'Musical', 'Documentary', '(no genres listed)', 'Fantasy', 'Horror', 'Animation', 'Western', 'Mystery', 'Thriller', 'Adventure', 'Comedy', 'Sci-Fi', 'Romance', 'IMAX', 'Film-Noir', 'Drama', 'Action', 'Crime', 'Children', 'War'}\n",
      "-----------\n",
      "['Musical', 'Documentary', '(no genres listed)', 'Fantasy', 'Horror', 'Animation', 'Western', 'Mystery', 'Thriller', 'Adventure', 'Comedy', 'Sci-Fi', 'Romance', 'IMAX', 'Film-Noir', 'Drama', 'Action', 'Crime', 'Children', 'War']\n",
      "20\n"
     ]
    }
   ],
   "source": [
    "# 딕셔너리 형태로 변환 = 중복 X\n",
    "temp_set = set(result)\n",
    "print(temp_set)\n",
    "print('-----------')\n",
    "\n",
    "# 딕셔너리를 다시 list로 변환 처리\n",
    "genres = list(set(result))\n",
    "print(genres)\n",
    "print(len(genres))"
   ]
  },
  {
   "cell_type": "code",
   "execution_count": 6,
   "id": "6662ed4e",
   "metadata": {},
   "outputs": [
    {
     "name": "stdout",
     "output_type": "stream",
     "text": [
      "{'Adventure': 1263, 'Animation': 611, 'Children': 664, 'Comedy': 3756, 'Fantasy': 779, 'Romance': 1596, 'Drama': 4361, 'Action': 1828, 'Crime': 1199, 'Thriller': 1894, 'Horror': 978, 'Mystery': 573, 'Sci-Fi': 980, 'War': 382, 'Musical': 334, 'Documentary': 440, 'IMAX': 158, 'Western': 167, 'Film-Noir': 87, '(no genres listed)': 34}\n"
     ]
    }
   ],
   "source": [
    "count = {}\n",
    "\n",
    "for i in result :\n",
    "    if count.get(i):\n",
    "        count[i] += 1\n",
    "    else :\n",
    "        count[i] = 1\n",
    "    \n",
    "print(count)"
   ]
  },
  {
   "cell_type": "code",
   "execution_count": null,
   "id": "d56dd1f5",
   "metadata": {},
   "outputs": [],
   "source": []
  }
 ],
 "metadata": {
  "kernelspec": {
   "display_name": "Python 3 (ipykernel)",
   "language": "python",
   "name": "python3"
  },
  "language_info": {
   "codemirror_mode": {
    "name": "ipython",
    "version": 3
   },
   "file_extension": ".py",
   "mimetype": "text/x-python",
   "name": "python",
   "nbconvert_exporter": "python",
   "pygments_lexer": "ipython3",
   "version": "3.9.13"
  }
 },
 "nbformat": 4,
 "nbformat_minor": 5
}
