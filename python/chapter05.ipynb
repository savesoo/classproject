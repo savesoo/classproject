{
 "cells": [
  {
   "cell_type": "code",
   "execution_count": 1,
   "id": "addd0c36",
   "metadata": {},
   "outputs": [
    {
     "name": "stdout",
     "output_type": "stream",
     "text": [
      "<class 'list'>\n",
      "[1, 2, 3, 4, 5]\n",
      "-----------------\n",
      "<class 'numpy.ndarray'>\n",
      "[1 2 3 4 5]\n"
     ]
    }
   ],
   "source": [
    "import numpy as np\n",
    "\n",
    "a = [1, 2, 3, 4, 5]\n",
    "b = np.array(a)\n",
    "\n",
    "print(type(a))\n",
    "print(a)\n",
    "print('-----------------')\n",
    "print(type(b))\n",
    "print(b)"
   ]
  },
  {
   "cell_type": "code",
   "execution_count": 2,
   "id": "c5ba7534",
   "metadata": {},
   "outputs": [
    {
     "name": "stdout",
     "output_type": "stream",
     "text": [
      "1\n",
      "1\n",
      "[1, 2, 3]\n",
      "[1 2 3]\n"
     ]
    }
   ],
   "source": [
    "print(a[0])\n",
    "print(b[0])\n",
    "\n",
    "print(a[0:3])\n",
    "print(b[0:3])\n",
    "# 거의 유사한 결과"
   ]
  },
  {
   "cell_type": "code",
   "execution_count": 3,
   "id": "78304277",
   "metadata": {},
   "outputs": [
    {
     "name": "stdout",
     "output_type": "stream",
     "text": [
      "[1, 2, 3, 4, 5, 1, 2, 3, 4, 5]\n",
      "[ 2  4  6  8 10]\n"
     ]
    }
   ],
   "source": [
    "# 덧셈 연산\n",
    "print(a+a) # [1, 2, 3, 4, 5, 1, 2, 3, 4, 5]\n",
    "print(b+b) # [2 4 6 8 10] 요소끼리 더하는 행렬의 덧셈 연산!"
   ]
  },
  {
   "cell_type": "code",
   "execution_count": 4,
   "id": "f316416c",
   "metadata": {},
   "outputs": [
    {
     "name": "stdout",
     "output_type": "stream",
     "text": [
      "[1 2 3 4 5]\n",
      "[3 4 5 6 7]\n",
      "[0.5 1.  1.5 2.  2.5]\n",
      "[0 1 1 2 2]\n",
      "[0 1 2 3 4]\n",
      "[ 2  4  6  8 10]\n"
     ]
    }
   ],
   "source": [
    "# numpy : 각 요소에 일괄적으로 연산\n",
    "print(b)\n",
    "print(b+2) \n",
    "print(b/2)\n",
    "print(b//2)\n",
    "print(b-1)\n",
    "print(b*2)"
   ]
  },
  {
   "cell_type": "code",
   "execution_count": 5,
   "id": "ab79c816",
   "metadata": {},
   "outputs": [
    {
     "name": "stdout",
     "output_type": "stream",
     "text": [
      "0    1\n",
      "1    2\n",
      "2    3\n",
      "3    4\n",
      "4    5\n",
      "dtype: int64\n",
      "<class 'pandas.core.series.Series'>\n"
     ]
    }
   ],
   "source": [
    "import pandas as pd\n",
    "\n",
    "a = pd.Series([1, 2, 3, 4, 5])\n",
    "print(a)\n",
    "print(type(a))"
   ]
  },
  {
   "cell_type": "code",
   "execution_count": 6,
   "id": "13a28356",
   "metadata": {},
   "outputs": [
    {
     "name": "stdout",
     "output_type": "stream",
     "text": [
      "a    1\n",
      "b    2\n",
      "c    3\n",
      "d    4\n",
      "dtype: int64\n"
     ]
    }
   ],
   "source": [
    "# index 따로 지정 가능\n",
    "a = pd.Series([1, 2, 3, 4], index=['a', 'b', 'c', 'd'])\n",
    "print(a)"
   ]
  },
  {
   "cell_type": "code",
   "execution_count": 7,
   "id": "d720ab04",
   "metadata": {},
   "outputs": [
    {
     "name": "stdout",
     "output_type": "stream",
     "text": [
      "a    1\n",
      "b    2\n",
      "c    3\n",
      "dtype: int64\n"
     ]
    }
   ],
   "source": [
    "# dict -> Series\n",
    "a =  pd.Series({'a':1, 'b':2, 'c':3}) # 딕셔너리의 속성 이름 => index\n",
    "print(a)"
   ]
  },
  {
   "cell_type": "code",
   "execution_count": 8,
   "id": "57626029",
   "metadata": {},
   "outputs": [
    {
     "name": "stdout",
     "output_type": "stream",
     "text": [
      "<class 'pandas.core.series.Series'>\n",
      "a    [1, 1, 1]\n",
      "b    [2, 2, 2]\n",
      "c    [3, 3, 3]\n",
      "dtype: object\n",
      "-----------------\n",
      "<class 'pandas.core.frame.DataFrame'>\n",
      "   a  b  c\n",
      "0  1  2  3\n",
      "1  1  2  3\n",
      "2  1  2  3\n"
     ]
    }
   ],
   "source": [
    "# 각 행이 list를 가지는 형태\n",
    "a =  pd.Series({'a':[1, 1, 1], 'b':[2, 2, 2], 'c':[3, 3, 3]})\n",
    "# 행렬을 가지는 하나의 표 형태\n",
    "b = pd.DataFrame({'a':[1, 1, 1], 'b':[2, 2, 2], 'c':[3, 3, 3]})\n",
    "\n",
    "print(type(a))\n",
    "print(a)\n",
    "print('-----------------')\n",
    "print(type(b))\n",
    "print(b)"
   ]
  },
  {
   "cell_type": "code",
   "execution_count": 9,
   "id": "59ca4e9d",
   "metadata": {},
   "outputs": [
    {
     "name": "stdout",
     "output_type": "stream",
     "text": [
      "   a  b  c\n",
      "0  1  3  3\n",
      "1  1  4  3\n",
      "2  1  5  3\n"
     ]
    }
   ],
   "source": [
    "# 반복문 없이 가운데 열 data 변경 가능\n",
    "b['b'] = [3, 4, 5]\n",
    "print(b)"
   ]
  },
  {
   "cell_type": "code",
   "execution_count": 10,
   "id": "e18a4562",
   "metadata": {},
   "outputs": [
    {
     "name": "stdout",
     "output_type": "stream",
     "text": [
      "   i  j  k\n",
      "x  1  3  3\n",
      "y  1  4  3\n",
      "z  1  5  3\n"
     ]
    }
   ],
   "source": [
    "# index 및 column 이름 지정\n",
    "b.index = ['x', 'y', 'z']\n",
    "b.columns = ['i', 'j', 'k']\n",
    "print(b)"
   ]
  },
  {
   "cell_type": "code",
   "execution_count": 11,
   "id": "7f057f4a",
   "metadata": {},
   "outputs": [
    {
     "name": "stdout",
     "output_type": "stream",
     "text": [
      "x    3\n",
      "y    4\n",
      "z    5\n",
      "Name: j, dtype: int64\n"
     ]
    }
   ],
   "source": [
    "# 특정 위치 data만 출력 가능\n",
    "print(b['j'])"
   ]
  },
  {
   "cell_type": "code",
   "execution_count": 12,
   "id": "da516534",
   "metadata": {},
   "outputs": [
    {
     "name": "stdout",
     "output_type": "stream",
     "text": [
      "   i  j  k\n",
      "x  1  3  3\n",
      "y  1  4  3\n",
      "z  1  5  3\n",
      "         i    j    k\n",
      "count  3.0  3.0  3.0\n",
      "mean   1.0  4.0  3.0\n",
      "std    0.0  1.0  0.0\n",
      "min    1.0  3.0  3.0\n",
      "25%    1.0  3.5  3.0\n",
      "50%    1.0  4.0  3.0\n",
      "75%    1.0  4.5  3.0\n",
      "max    1.0  5.0  3.0\n"
     ]
    }
   ],
   "source": [
    "print(b)\n",
    "print(b.describe())"
   ]
  },
  {
   "cell_type": "code",
   "execution_count": 13,
   "id": "260240b2",
   "metadata": {},
   "outputs": [
    {
     "name": "stdout",
     "output_type": "stream",
     "text": [
      "i     3\n",
      "j    12\n",
      "k     9\n",
      "dtype: int64\n"
     ]
    }
   ],
   "source": [
    "# sum() : 수직방향 합\n",
    "print(b.sum())"
   ]
  },
  {
   "cell_type": "code",
   "execution_count": 14,
   "id": "bb596272",
   "metadata": {},
   "outputs": [
    {
     "name": "stdout",
     "output_type": "stream",
     "text": [
      "x    7\n",
      "y    8\n",
      "z    9\n",
      "dtype: int64\n"
     ]
    }
   ],
   "source": [
    "# 수평방향 합 연산을 위해서는 axis=1 옵션 필요(0:수직)\n",
    "print(b.sum(axis=1))"
   ]
  },
  {
   "cell_type": "code",
   "execution_count": 15,
   "id": "3ff668a5",
   "metadata": {},
   "outputs": [
    {
     "data": {
      "text/html": [
       "<div>\n",
       "<style scoped>\n",
       "    .dataframe tbody tr th:only-of-type {\n",
       "        vertical-align: middle;\n",
       "    }\n",
       "\n",
       "    .dataframe tbody tr th {\n",
       "        vertical-align: top;\n",
       "    }\n",
       "\n",
       "    .dataframe thead th {\n",
       "        text-align: right;\n",
       "    }\n",
       "</style>\n",
       "<table border=\"1\" class=\"dataframe\">\n",
       "  <thead>\n",
       "    <tr style=\"text-align: right;\">\n",
       "      <th></th>\n",
       "      <th>movieId</th>\n",
       "      <th>title</th>\n",
       "      <th>genres</th>\n",
       "    </tr>\n",
       "  </thead>\n",
       "  <tbody>\n",
       "    <tr>\n",
       "      <th>0</th>\n",
       "      <td>1</td>\n",
       "      <td>Toy Story (1995)</td>\n",
       "      <td>Adventure|Animation|Children|Comedy|Fantasy</td>\n",
       "    </tr>\n",
       "    <tr>\n",
       "      <th>1</th>\n",
       "      <td>2</td>\n",
       "      <td>Jumanji (1995)</td>\n",
       "      <td>Adventure|Children|Fantasy</td>\n",
       "    </tr>\n",
       "    <tr>\n",
       "      <th>2</th>\n",
       "      <td>3</td>\n",
       "      <td>Grumpier Old Men (1995)</td>\n",
       "      <td>Comedy|Romance</td>\n",
       "    </tr>\n",
       "    <tr>\n",
       "      <th>3</th>\n",
       "      <td>4</td>\n",
       "      <td>Waiting to Exhale (1995)</td>\n",
       "      <td>Comedy|Drama|Romance</td>\n",
       "    </tr>\n",
       "    <tr>\n",
       "      <th>4</th>\n",
       "      <td>5</td>\n",
       "      <td>Father of the Bride Part II (1995)</td>\n",
       "      <td>Comedy</td>\n",
       "    </tr>\n",
       "    <tr>\n",
       "      <th>...</th>\n",
       "      <td>...</td>\n",
       "      <td>...</td>\n",
       "      <td>...</td>\n",
       "    </tr>\n",
       "    <tr>\n",
       "      <th>9737</th>\n",
       "      <td>193581</td>\n",
       "      <td>Black Butler: Book of the Atlantic (2017)</td>\n",
       "      <td>Action|Animation|Comedy|Fantasy</td>\n",
       "    </tr>\n",
       "    <tr>\n",
       "      <th>9738</th>\n",
       "      <td>193583</td>\n",
       "      <td>No Game No Life: Zero (2017)</td>\n",
       "      <td>Animation|Comedy|Fantasy</td>\n",
       "    </tr>\n",
       "    <tr>\n",
       "      <th>9739</th>\n",
       "      <td>193585</td>\n",
       "      <td>Flint (2017)</td>\n",
       "      <td>Drama</td>\n",
       "    </tr>\n",
       "    <tr>\n",
       "      <th>9740</th>\n",
       "      <td>193587</td>\n",
       "      <td>Bungo Stray Dogs: Dead Apple (2018)</td>\n",
       "      <td>Action|Animation</td>\n",
       "    </tr>\n",
       "    <tr>\n",
       "      <th>9741</th>\n",
       "      <td>193609</td>\n",
       "      <td>Andrew Dice Clay: Dice Rules (1991)</td>\n",
       "      <td>Comedy</td>\n",
       "    </tr>\n",
       "  </tbody>\n",
       "</table>\n",
       "<p>9742 rows × 3 columns</p>\n",
       "</div>"
      ],
      "text/plain": [
       "      movieId                                      title  \\\n",
       "0           1                           Toy Story (1995)   \n",
       "1           2                             Jumanji (1995)   \n",
       "2           3                    Grumpier Old Men (1995)   \n",
       "3           4                   Waiting to Exhale (1995)   \n",
       "4           5         Father of the Bride Part II (1995)   \n",
       "...       ...                                        ...   \n",
       "9737   193581  Black Butler: Book of the Atlantic (2017)   \n",
       "9738   193583               No Game No Life: Zero (2017)   \n",
       "9739   193585                               Flint (2017)   \n",
       "9740   193587        Bungo Stray Dogs: Dead Apple (2018)   \n",
       "9741   193609        Andrew Dice Clay: Dice Rules (1991)   \n",
       "\n",
       "                                           genres  \n",
       "0     Adventure|Animation|Children|Comedy|Fantasy  \n",
       "1                      Adventure|Children|Fantasy  \n",
       "2                                  Comedy|Romance  \n",
       "3                            Comedy|Drama|Romance  \n",
       "4                                          Comedy  \n",
       "...                                           ...  \n",
       "9737              Action|Animation|Comedy|Fantasy  \n",
       "9738                     Animation|Comedy|Fantasy  \n",
       "9739                                        Drama  \n",
       "9740                             Action|Animation  \n",
       "9741                                       Comedy  \n",
       "\n",
       "[9742 rows x 3 columns]"
      ]
     },
     "execution_count": 15,
     "metadata": {},
     "output_type": "execute_result"
    }
   ],
   "source": [
    "data = pd.read_csv('ml-latest-small/movies.csv')\n",
    "data"
   ]
  },
  {
   "cell_type": "code",
   "execution_count": 16,
   "id": "bddfa905",
   "metadata": {},
   "outputs": [
    {
     "name": "stdout",
     "output_type": "stream",
     "text": [
      "22084\n"
     ]
    }
   ],
   "source": [
    "# 장르 분리\n",
    "genre = []\n",
    "\n",
    "for i in data['genres'] :\n",
    "    genre.extend(i.split('|'))\n",
    "    \n",
    "print(len(genre))"
   ]
  },
  {
   "cell_type": "code",
   "execution_count": 17,
   "id": "dbfd6cf7",
   "metadata": {},
   "outputs": [
    {
     "name": "stdout",
     "output_type": "stream",
     "text": [
      "['Adventure' 'Animation' 'Children' 'Comedy' 'Fantasy' 'Romance' 'Drama'\n",
      " 'Action' 'Crime' 'Thriller' 'Horror' 'Mystery' 'Sci-Fi' 'War' 'Musical'\n",
      " 'Documentary' 'IMAX' 'Western' 'Film-Noir' '(no genres listed)']\n",
      "20\n"
     ]
    }
   ],
   "source": [
    "# 중복 data 제거\n",
    "uq_genre = pd.unique(genre)\n",
    "print(uq_genre)\n",
    "print(len(uq_genre))"
   ]
  },
  {
   "cell_type": "code",
   "execution_count": 18,
   "id": "5131b85a",
   "metadata": {},
   "outputs": [
    {
     "name": "stdout",
     "output_type": "stream",
     "text": [
      "                    count\n",
      "Adventure             0.0\n",
      "Animation             0.0\n",
      "Children              0.0\n",
      "Comedy                0.0\n",
      "Fantasy               0.0\n",
      "Romance               0.0\n",
      "Drama                 0.0\n",
      "Action                0.0\n",
      "Crime                 0.0\n",
      "Thriller              0.0\n",
      "Horror                0.0\n",
      "Mystery               0.0\n",
      "Sci-Fi                0.0\n",
      "War                   0.0\n",
      "Musical               0.0\n",
      "Documentary           0.0\n",
      "IMAX                  0.0\n",
      "Western               0.0\n",
      "Film-Noir             0.0\n",
      "(no genres listed)    0.0\n"
     ]
    }
   ],
   "source": [
    "zero_data = np.zeros(len(uq_genre))\n",
    "# numpy -> pandas data\n",
    "result = pd.DataFrame(zero_data, index=uq_genre, columns=['count'])\n",
    "print(result)"
   ]
  },
  {
   "cell_type": "code",
   "execution_count": 19,
   "id": "ceca2c18",
   "metadata": {},
   "outputs": [
    {
     "name": "stdout",
     "output_type": "stream",
     "text": [
      "                     count\n",
      "Adventure           1263.0\n",
      "Animation            611.0\n",
      "Children             664.0\n",
      "Comedy              3756.0\n",
      "Fantasy              779.0\n",
      "Romance             1596.0\n",
      "Drama               4361.0\n",
      "Action              1828.0\n",
      "Crime               1199.0\n",
      "Thriller            1894.0\n",
      "Horror               978.0\n",
      "Mystery              573.0\n",
      "Sci-Fi               980.0\n",
      "War                  382.0\n",
      "Musical              334.0\n",
      "Documentary          440.0\n",
      "IMAX                 158.0\n",
      "Western              167.0\n",
      "Film-Noir             87.0\n",
      "(no genres listed)    34.0\n"
     ]
    }
   ],
   "source": [
    "for i in genre:\n",
    "    result.loc[i] += 1\n",
    "    \n",
    "print(result)"
   ]
  },
  {
   "cell_type": "code",
   "execution_count": 20,
   "id": "c5caf520",
   "metadata": {},
   "outputs": [
    {
     "name": "stdout",
     "output_type": "stream",
     "text": [
      "count    22084.0\n",
      "dtype: float64\n"
     ]
    }
   ],
   "source": [
    "print(result.sum())"
   ]
  }
 ],
 "metadata": {
  "kernelspec": {
   "display_name": "Python 3 (ipykernel)",
   "language": "python",
   "name": "python3"
  },
  "language_info": {
   "codemirror_mode": {
    "name": "ipython",
    "version": 3
   },
   "file_extension": ".py",
   "mimetype": "text/x-python",
   "name": "python",
   "nbconvert_exporter": "python",
   "pygments_lexer": "ipython3",
   "version": "3.9.13"
  }
 },
 "nbformat": 4,
 "nbformat_minor": 5
}
