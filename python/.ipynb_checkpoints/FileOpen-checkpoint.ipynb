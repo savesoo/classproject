{
 "cells": [
  {
   "cell_type": "code",
   "execution_count": 1,
   "id": "ea27b648",
   "metadata": {},
   "outputs": [
    {
     "name": "stdout",
     "output_type": "stream",
     "text": [
      "abcdefg\n",
      "test String\n"
     ]
    }
   ],
   "source": [
    "f = open('test.txt', 'r', encoding='utf-8')\n",
    "data = f.read()\n",
    "print(data)\n",
    "f.close()"
   ]
  },
  {
   "cell_type": "code",
   "execution_count": 2,
   "id": "a6ef9596",
   "metadata": {},
   "outputs": [
    {
     "name": "stdout",
     "output_type": "stream",
     "text": [
      "이름,전화번호,등번호\n",
      "손흥민,010-1111-2222,7\n",
      "이강인,010-1111-2223,19\n",
      "김민재,010-1111-2224,20\n",
      "\n"
     ]
    }
   ],
   "source": [
    "f = open('list.csv', 'r')\n",
    "data = f.read()\n",
    "print(data)\n",
    "f.close()"
   ]
  },
  {
   "cell_type": "code",
   "execution_count": 6,
   "id": "fb2eeb80",
   "metadata": {},
   "outputs": [
    {
     "name": "stdout",
     "output_type": "stream",
     "text": [
      "<class '_csv.reader'> <_csv.reader object at 0x00000218A3F28820>\n",
      "<class 'list'> ['손흥민', '010-1111-2222', '7']\n"
     ]
    }
   ],
   "source": [
    "import csv # 모듈 import\n",
    "\n",
    "f = open('list.csv', 'r')\n",
    "data = csv.reader(f)\n",
    "print(type(data), data)\n",
    "\n",
    "for item in data :\n",
    "    if '손흥민' in item :\n",
    "        print(type(item), item) # list 타입으로 출력됨\n",
    "\n",
    "f.close()"
   ]
  },
  {
   "cell_type": "code",
   "execution_count": 10,
   "id": "fb347fe4",
   "metadata": {},
   "outputs": [
    {
     "name": "stdout",
     "output_type": "stream",
     "text": [
      "type :  <class 'str'>\n",
      "{\n",
      "  \"todos\": [\n",
      "    {\n",
      "      \"id\": 1,\n",
      "      \"title\": \"json-server \",\n",
      "      \"writer\": \"jin test\",\n",
      "      \"complete\": true\n",
      "    },\n",
      "    {\n",
      "      \"title\": \"오늘 처음 해야할일 수정\",\n",
      "      \"writer\": \"손흥민 수정\",\n",
      "      \"complete\": true,\n",
      "      \"id\": 2\n",
      "    }\n",
      "  ],\n",
      "  \"member\": [\n",
      "    {\n",
      "      \"id\": \"user00\",\n",
      "      \"pw\": \"1111\"\n",
      "    }\n",
      "  ]\n",
      "}\n",
      "type :  <class 'dict'>\n",
      "{'todos': [{'id': 1, 'title': 'json-server ', 'writer': 'jin test', 'complete': True}, {'title': '오늘 처음 해야할일 수정', 'writer': '손흥민 수정', 'complete': True, 'id': 2}], 'member': [{'id': 'user00', 'pw': '1111'}]}\n"
     ]
    }
   ],
   "source": [
    "import json\n",
    "\n",
    "f = open('db.json', 'r', encoding='utf-8')\n",
    "# str\n",
    "data = f.read()\n",
    "print('type : ', type(data))\n",
    "print(data)\n",
    "\n",
    "# 딕셔너리 처리\n",
    "obj = json.loads(data)\n",
    "print('type : ', type(obj))\n",
    "print(obj)\n",
    "\n",
    "f.close()"
   ]
  },
  {
   "cell_type": "code",
   "execution_count": 11,
   "id": "6079973c",
   "metadata": {},
   "outputs": [
    {
     "name": "stdout",
     "output_type": "stream",
     "text": [
      "<class 'str'>\n",
      "{\"todos\": [{\"id\": 1, \"title\": \"json-server \", \"writer\": \"jin test\", \"complete\": true}, {\"title\": \"\\uc624\\ub298 \\ucc98\\uc74c \\ud574\\uc57c\\ud560\\uc77c \\uc218\\uc815\", \"writer\": \"\\uc190\\ud765\\ubbfc \\uc218\\uc815\", \"complete\": true, \"id\": 2}], \"member\": [{\"id\": \"user00\", \"pw\": \"1111\"}]}\n"
     ]
    }
   ],
   "source": [
    "# 딕셔너리였던 obj가 str로 변경됨\n",
    "json_str = json.dumps(obj)\n",
    "print(type(json_str))\n",
    "print(json_str)"
   ]
  },
  {
   "cell_type": "code",
   "execution_count": null,
   "id": "8bcf813d",
   "metadata": {},
   "outputs": [],
   "source": []
  },
  {
   "cell_type": "code",
   "execution_count": null,
   "id": "6b8e2abe",
   "metadata": {},
   "outputs": [],
   "source": []
  }
 ],
 "metadata": {
  "kernelspec": {
   "display_name": "Python 3 (ipykernel)",
   "language": "python",
   "name": "python3"
  },
  "language_info": {
   "codemirror_mode": {
    "name": "ipython",
    "version": 3
   },
   "file_extension": ".py",
   "mimetype": "text/x-python",
   "name": "python",
   "nbconvert_exporter": "python",
   "pygments_lexer": "ipython3",
   "version": "3.9.13"
  }
 },
 "nbformat": 4,
 "nbformat_minor": 5
}
